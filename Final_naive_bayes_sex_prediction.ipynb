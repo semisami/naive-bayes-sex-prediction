{
 "cells": [
  {
   "cell_type": "markdown",
   "id": "ec243328",
   "metadata": {},
   "source": [
    "# Prediction sex with Naive-Bayes Classifier"
   ]
  },
  {
   "cell_type": "code",
   "execution_count": 294,
   "id": "0e57c82c",
   "metadata": {},
   "outputs": [],
   "source": [
    "import pandas as pd\n",
    "import numpy as np\n",
    "import random\n",
    "import time"
   ]
  },
  {
   "cell_type": "code",
   "execution_count": 28,
   "id": "4308d3a1",
   "metadata": {},
   "outputs": [
    {
     "data": {
      "text/html": [
       "<div>\n",
       "<style scoped>\n",
       "    .dataframe tbody tr th:only-of-type {\n",
       "        vertical-align: middle;\n",
       "    }\n",
       "\n",
       "    .dataframe tbody tr th {\n",
       "        vertical-align: top;\n",
       "    }\n",
       "\n",
       "    .dataframe thead th {\n",
       "        text-align: right;\n",
       "    }\n",
       "</style>\n",
       "<table border=\"1\" class=\"dataframe\">\n",
       "  <thead>\n",
       "    <tr style=\"text-align: right;\">\n",
       "      <th></th>\n",
       "      <th>Education</th>\n",
       "      <th>Status</th>\n",
       "      <th>Others</th>\n",
       "      <th>Skin Color</th>\n",
       "      <th>Sex</th>\n",
       "    </tr>\n",
       "  </thead>\n",
       "  <tbody>\n",
       "    <tr>\n",
       "      <th>0</th>\n",
       "      <td>Bachelors</td>\n",
       "      <td>Never-married</td>\n",
       "      <td>Adm-clerical</td>\n",
       "      <td>White</td>\n",
       "      <td>Male</td>\n",
       "    </tr>\n",
       "    <tr>\n",
       "      <th>1</th>\n",
       "      <td>Bachelors</td>\n",
       "      <td>Married-civ-spouse</td>\n",
       "      <td>Exec-managerial</td>\n",
       "      <td>White</td>\n",
       "      <td>Male</td>\n",
       "    </tr>\n",
       "    <tr>\n",
       "      <th>2</th>\n",
       "      <td>HS-grad</td>\n",
       "      <td>Divorced</td>\n",
       "      <td>Handlers-cleaners</td>\n",
       "      <td>White</td>\n",
       "      <td>Male</td>\n",
       "    </tr>\n",
       "    <tr>\n",
       "      <th>3</th>\n",
       "      <td>11th</td>\n",
       "      <td>Married-civ-spouse</td>\n",
       "      <td>Handlers-cleaners</td>\n",
       "      <td>Black</td>\n",
       "      <td>Male</td>\n",
       "    </tr>\n",
       "    <tr>\n",
       "      <th>4</th>\n",
       "      <td>Bachelors</td>\n",
       "      <td>Married-civ-spouse</td>\n",
       "      <td>Prof-specialty</td>\n",
       "      <td>Black</td>\n",
       "      <td>Female</td>\n",
       "    </tr>\n",
       "  </tbody>\n",
       "</table>\n",
       "</div>"
      ],
      "text/plain": [
       "    Education               Status              Others Skin Color      Sex\n",
       "0   Bachelors        Never-married        Adm-clerical      White     Male\n",
       "1   Bachelors   Married-civ-spouse     Exec-managerial      White     Male\n",
       "2     HS-grad             Divorced   Handlers-cleaners      White     Male\n",
       "3        11th   Married-civ-spouse   Handlers-cleaners      Black     Male\n",
       "4   Bachelors   Married-civ-spouse      Prof-specialty      Black   Female"
      ]
     },
     "execution_count": 28,
     "metadata": {},
     "output_type": "execute_result"
    }
   ],
   "source": [
    "df = pd.read_csv(\"adult.csv\")\n",
    "df.head()"
   ]
  },
  {
   "cell_type": "markdown",
   "id": "a260933b",
   "metadata": {},
   "source": [
    "## Missing values handle"
   ]
  },
  {
   "cell_type": "markdown",
   "id": "12e011ad",
   "metadata": {},
   "source": [
    "<hr>\n",
    "This is a helper function that is used in the group method to fix missing data"
   ]
  },
  {
   "cell_type": "code",
   "execution_count": 29,
   "id": "68111895",
   "metadata": {},
   "outputs": [],
   "source": [
    "def get_the_most_similar_sample(row, df):\n",
    "    res_df = df[(df[\"Education\"] == row[0]) & (df[\"Status\"] == row[1]) & (df[\"Skin Color\"] == row[3]) & (df[\"Sex\"] == row[4])]\n",
    "    res = res_df[\"size\"].tolist()\n",
    "    \n",
    "    if res:\n",
    "        return res_df[res_df[\"size\"] == max(res)][\"Others\"].values[0]\n",
    "    else:\n",
    "        pass"
   ]
  },
  {
   "cell_type": "markdown",
   "id": "18846ab3",
   "metadata": {},
   "source": [
    "#### Management of lost data is possible in three ways:\n",
    "\n",
    "##### 1.Delete them\n",
    "\n",
    "method=\"drop\"        \n",
    "<hr>\n",
    "\n",
    "##### 2.Substitution in proportion to the number of repetitions of each value\n",
    "\n",
    "method=\"possibility\" \n",
    "<hr>\n",
    "\n",
    "##### 3.Replace with the most similar row in the dataset\n",
    "\n",
    "method=\"group\""
   ]
  },
  {
   "cell_type": "code",
   "execution_count": 30,
   "id": "fdb06d53",
   "metadata": {},
   "outputs": [],
   "source": [
    "def miss_handle(dff, col=\"Others\", miss_val= \" ?\", method=\"drop\"):\n",
    "    if method == \"group\":\n",
    "        columns_list = dff.columns.tolist()\n",
    "        df_grouped = dff[dff[col] != miss_val].groupby(columns_list, as_index=False).size()\n",
    "        miss_data_index = dff[dff[col] == miss_val].index.tolist() \n",
    "        for row in miss_data_index:\n",
    "            most_similar = get_the_most_similar_sample(df.loc[row].values, df_grouped)\n",
    "            dff.loc[row][col] = most_similar\n",
    "        return dff\n",
    "    if method == \"drop\":\n",
    "        return dff[dff[col] != miss_val]\n",
    "    \n",
    "    if method == \"possibility\":\n",
    "        \n",
    "        res = []\n",
    "        miss_size = dff[dff[col] == miss_val].shape[0] # 1383\n",
    "\n",
    "       \n",
    "        dff[col] = pd.Categorical(df[col])\n",
    "        values = dff[col].cat.categories \n",
    "        \n",
    "        mmax = 0\n",
    "        lbl_max = \"\"\n",
    "        for v in values:\n",
    "            if v != miss_val and v != \" \":\n",
    "                shape = dff[dff[col] == v].shape[0] / dff.shape[0] * 100\n",
    "                if shape > mmax:     #|\n",
    "                    lbl_max = v  #|\n",
    "                    mmax = shape     #|\n",
    "                    \n",
    "                if int(shape) > 0:\n",
    "                    tempList = ((int(shape * miss_size / 100)) * [v])\n",
    "                    res += tempList\n",
    "        fin = (miss_size - len(res)) * [lbl_max]\n",
    "        res += fin\n",
    "        random.shuffle(res)\n",
    "        for i, j in zip(dff[dff[col] == miss_val].index.tolist(), range(len(res))):\n",
    "            dff.loc[i, col] =  res[j]\n",
    "        \n",
    "        return dff"
   ]
  },
  {
   "cell_type": "code",
   "execution_count": 31,
   "id": "e668a48f",
   "metadata": {},
   "outputs": [],
   "source": [
    "df = miss_handle(df, method=\"drop\")"
   ]
  },
  {
   "cell_type": "markdown",
   "id": "eb93669c",
   "metadata": {},
   "source": [
    "## Train Test split\n"
   ]
  },
  {
   "cell_type": "code",
   "execution_count": 32,
   "id": "2d05d36b",
   "metadata": {},
   "outputs": [
    {
     "name": "stdout",
     "output_type": "stream",
     "text": [
      "train: (24626, 5)/test: (6092, 5)\n"
     ]
    }
   ],
   "source": [
    "def train_test_split(df, test_size = 0.2):\n",
    "    msk = np.random.rand(len(df)) < 1 - test_size\n",
    "    train = df[msk]\n",
    "    test = df[~msk]\n",
    "    res = \"train: {}/test: {}\".format(train.shape, test.shape)\n",
    "    print(res)\n",
    "    return train, test\n",
    "\n",
    "train, test = train_test_split(df, 0.3)"
   ]
  },
  {
   "cell_type": "code",
   "execution_count": 33,
   "id": "09a2d1d7",
   "metadata": {},
   "outputs": [],
   "source": [
    "X_train = train[[\"Education\", \"Status\", \"Others\", \"Skin Color\"]]\n",
    "X_test = test[[\"Education\", \"Status\", \"Others\", \"Skin Color\"]]\n",
    "y_train = train[[\"Sex\"]]\n",
    "y_test = test[[\"Sex\"]]"
   ]
  },
  {
   "cell_type": "markdown",
   "id": "a19e1610",
   "metadata": {},
   "source": [
    "## Naive-Bayes class definition"
   ]
  },
  {
   "cell_type": "markdown",
   "id": "b07e92da",
   "metadata": {},
   "source": [
    "Bayes Rule:\n",
    "\n",
    "$$\n",
    "P(C|X) = \\frac{P(X|C)P(C)}{P(X)}\n",
    "$$\n",
    "<br><br>\n",
    "$$\n",
    "P(female|X) = \\frac{P(X|female)P(female)}{P(X)}\n",
    "$$\n",
    "<br>\n",
    "$$\n",
    "P(male|X) = \\frac{P(X|male)P(male)}{P(X)}\n",
    "$$"
   ]
  },
  {
   "cell_type": "code",
   "execution_count": 303,
   "id": "17bada0d",
   "metadata": {},
   "outputs": [],
   "source": [
    "class Naive_bayes():\n",
    "    def __init__(self, X_train, y_train):\n",
    "        self.X_train = X_train\n",
    "        self.y_train = y_train\n",
    "        \n",
    "    def fit(self):\n",
    "        #------------------------------------------------------------------------- Creating a dataframe for save possibilities\n",
    "        tbl_poss = pd.DataFrame()\n",
    "        self.tbl_poss = tbl_poss\n",
    "        X_train_f = self.X_train[y_train[\"Sex\"] == \" Female\"]\n",
    "        X_train_m = self.X_train[y_train[\"Sex\"] == \" Male\"]\n",
    "        #-------------------------------------------------------------------------\n",
    "        #------------------------------------------------------------------------- Computing Prior\n",
    "        p_male = y_train[y_train[\"Sex\"] == \" Male\"].shape[0] / y_train.shape[0]\n",
    "        p_female = 1 - p_male\n",
    "        tbl_poss[\"Prior\"] = [p_male, p_female]\n",
    "        #------------------------------------------------------------------------- \n",
    "        #------------------------------------------------------------------------- Values extraction\n",
    "        values = dict()\n",
    "        self.X_train = pd.DataFrame(X_train)\n",
    "        for feature in X_train.columns:\n",
    "            self.X_train.loc[:, feature] = pd.Categorical(self.X_train.loc[:, feature])\n",
    "            values[feature] = self.X_train[feature].cat.categories\n",
    "        #------------------------------------------------------------------------- \n",
    "        #------------------------------------------------------------------------- Creating a table of possibilities\n",
    "        tempMale = X_train[y_train[\"Sex\"] == \" Male\"]\n",
    "        tempFemale = X_train[y_train[\"Sex\"] == \" Female\"]\n",
    "        for f in X_train.columns:\n",
    "            for v in values[f]:\n",
    "                m_prob = X_train_m[X_train_m[f] == v].shape[0] / X_train_m.shape[0]\n",
    "                f_prob = X_train_f[X_train_f[f] == v].shape[0] / X_train_f.shape[0]\n",
    "                tbl_poss[v] = [m_prob, f_prob]\n",
    "        #------------------------------------------------------------------------- \n",
    "\n",
    "    def predict(self, X_test, y_test):\n",
    "        start_time = time.time()\n",
    "        true_values = 0\n",
    "        for test_index in range(y_test.shape[0]):\n",
    "            print(\"Prediction started ... % \" + str(int(test_index/y_test.shape[0]*100)), end=\"\\r\")\n",
    "            values = X_test.iloc[test_index].values\n",
    "            values = np.append(values, \"Prior\")\n",
    "            male_p = np.prod(self.tbl_poss[values].iloc[0])\n",
    "            female_p = np.prod(self.tbl_poss[values].iloc[1])\n",
    "            predicted = ''\n",
    "            if male_p > female_p:\n",
    "                predicted = ' Male'\n",
    "            else:\n",
    "                predicted = ' Female'\n",
    "            if predicted == y_test[\"Sex\"].iloc[test_index]:\n",
    "                true_values += 1\n",
    "        \n",
    "        print(\"Accuracy: \", true_values / y_test.shape[0])\n",
    "        print(\"--- Run time (second) ---: %s\" % (round(time.time() - start_time, 2)))\n"
   ]
  },
  {
   "cell_type": "code",
   "execution_count": 304,
   "id": "98d07126",
   "metadata": {},
   "outputs": [],
   "source": [
    "naiveBayes = Naive_bayes(X_train, y_train)"
   ]
  },
  {
   "cell_type": "markdown",
   "id": "b304cf25",
   "metadata": {},
   "source": [
    "## Training"
   ]
  },
  {
   "cell_type": "code",
   "execution_count": 305,
   "id": "8bc74d29",
   "metadata": {},
   "outputs": [],
   "source": [
    "naiveBayes.fit()"
   ]
  },
  {
   "cell_type": "markdown",
   "id": "21f3abce",
   "metadata": {},
   "source": [
    "## Prediction Test set\n",
    "### Accuracy report and execution time"
   ]
  },
  {
   "cell_type": "code",
   "execution_count": 306,
   "id": "e42cb52a",
   "metadata": {},
   "outputs": [
    {
     "name": "stdout",
     "output_type": "stream",
     "text": [
      "Accuracy:  0.7834865397242285\n",
      "--- Run time (second) ---: 8.57\n"
     ]
    }
   ],
   "source": [
    "naiveBayes.predict(X_test, y_test)"
   ]
  }
 ],
 "metadata": {
  "kernelspec": {
   "display_name": "Python 3 (ipykernel)",
   "language": "python",
   "name": "python3"
  },
  "language_info": {
   "codemirror_mode": {
    "name": "ipython",
    "version": 3
   },
   "file_extension": ".py",
   "mimetype": "text/x-python",
   "name": "python",
   "nbconvert_exporter": "python",
   "pygments_lexer": "ipython3",
   "version": "3.9.12"
  }
 },
 "nbformat": 4,
 "nbformat_minor": 5
}
